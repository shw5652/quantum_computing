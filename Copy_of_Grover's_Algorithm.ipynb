{
  "nbformat": 4,
  "nbformat_minor": 0,
  "metadata": {
    "colab": {
      "provenance": [],
      "include_colab_link": true
    },
    "kernelspec": {
      "name": "python3",
      "display_name": "Python 3"
    },
    "language_info": {
      "name": "python"
    }
  },
  "cells": [
    {
      "cell_type": "markdown",
      "metadata": {
        "id": "view-in-github",
        "colab_type": "text"
      },
      "source": [
        "<a href=\"https://colab.research.google.com/github/shw5652/quantum_computing/blob/main/Copy_of_Grover's_Algorithm.ipynb\" target=\"_parent\"><img src=\"https://colab.research.google.com/assets/colab-badge.svg\" alt=\"Open In Colab\"/></a>"
      ]
    },
    {
      "cell_type": "markdown",
      "source": [
        "**Name : Shweta Kumari**\n",
        "\n",
        "**Roll no : 102297007**\n",
        "\n",
        "**Group : CS7**"
      ],
      "metadata": {
        "id": "NjWzO-jKcFcg"
      }
    },
    {
      "cell_type": "markdown",
      "source": [
        "\n",
        "\n",
        "---\n",
        "\n"
      ],
      "metadata": {
        "id": "FG8YwjUOcK4B"
      }
    },
    {
      "cell_type": "markdown",
      "source": [
        "**Quantum Computing**\n",
        "\n",
        "**Assignment 9 : Grover's Algorithm**"
      ],
      "metadata": {
        "id": "rL_LiXkqcL7_"
      }
    },
    {
      "cell_type": "markdown",
      "source": [
        "\n",
        "\n",
        "---\n",
        "\n"
      ],
      "metadata": {
        "id": "z9fy2zvJcYOg"
      }
    },
    {
      "cell_type": "code",
      "execution_count": null,
      "metadata": {
        "id": "GDYje1exQLNv"
      },
      "outputs": [],
      "source": [
        "!pip install qiskit"
      ]
    },
    {
      "cell_type": "code",
      "source": [
        "!pip install qiskit-aer"
      ],
      "metadata": {
        "id": "tDxZRdJcQaui"
      },
      "execution_count": null,
      "outputs": []
    },
    {
      "cell_type": "code",
      "source": [
        "import matplotlib.pyplot as plt\n",
        "import numpy as np\n",
        "import math\n"
      ],
      "metadata": {
        "id": "F4ZOf0XbQcIX"
      },
      "execution_count": null,
      "outputs": []
    },
    {
      "cell_type": "code",
      "source": [
        "from qiskit import QuantumCircuit, transpile, ClassicalRegister, QuantumRegister\n",
        "from qiskit_aer import AerSimulator\n",
        "from qiskit.visualization import plot_histogram\n",
        "sim = AerSimulator()"
      ],
      "metadata": {
        "id": "bc68IFeCQtE1"
      },
      "execution_count": null,
      "outputs": []
    },
    {
      "cell_type": "code",
      "source": [
        "n = 2\n",
        "grover_circuit = QuantumCircuit(n)"
      ],
      "metadata": {
        "id": "QRPFD0yXRJXK"
      },
      "execution_count": null,
      "outputs": []
    },
    {
      "cell_type": "code",
      "source": [
        "def initialize_s(qc, qubits):\n",
        "    \"\"\"Apply a H-gate to 'qubits' in qc\"\"\"\n",
        "    for q in qubits:\n",
        "        qc.h(q)\n",
        "    return qc"
      ],
      "metadata": {
        "id": "6yN-QeJbRh3e"
      },
      "execution_count": null,
      "outputs": []
    },
    {
      "cell_type": "code",
      "source": [
        "grover_circuit = initialize_s(grover_circuit, [0,1])\n",
        "grover_circuit.draw()"
      ],
      "metadata": {
        "colab": {
          "base_uri": "https://localhost:8080/",
          "height": 94
        },
        "id": "qRExQTSWRkp9",
        "outputId": "18dd33ea-dd6c-4766-c48e-22b46104decd"
      },
      "execution_count": null,
      "outputs": [
        {
          "output_type": "execute_result",
          "data": {
            "text/plain": [
              "     ┌───┐\n",
              "q_0: ┤ H ├\n",
              "     ├───┤\n",
              "q_1: ┤ H ├\n",
              "     └───┘"
            ],
            "text/html": [
              "<pre style=\"word-wrap: normal;white-space: pre;background: #fff0;line-height: 1.1;font-family: &quot;Courier New&quot;,Courier,monospace\">     ┌───┐\n",
              "q_0: ┤ H ├\n",
              "     ├───┤\n",
              "q_1: ┤ H ├\n",
              "     └───┘</pre>"
            ]
          },
          "metadata": {},
          "execution_count": 21
        }
      ]
    },
    {
      "cell_type": "code",
      "source": [
        "grover_circuit.cz(0,1) # Oracle\n",
        "grover_circuit.draw()"
      ],
      "metadata": {
        "colab": {
          "base_uri": "https://localhost:8080/",
          "height": 94
        },
        "id": "rQHtxGQtRnK3",
        "outputId": "8475c89a-7a26-4783-da42-e0540f655510"
      },
      "execution_count": null,
      "outputs": [
        {
          "output_type": "execute_result",
          "data": {
            "text/plain": [
              "     ┌───┐   \n",
              "q_0: ┤ H ├─■─\n",
              "     ├───┤ │ \n",
              "q_1: ┤ H ├─■─\n",
              "     └───┘   "
            ],
            "text/html": [
              "<pre style=\"word-wrap: normal;white-space: pre;background: #fff0;line-height: 1.1;font-family: &quot;Courier New&quot;,Courier,monospace\">     ┌───┐   \n",
              "q_0: ┤ H ├─■─\n",
              "     ├───┤ │ \n",
              "q_1: ┤ H ├─■─\n",
              "     └───┘   </pre>"
            ]
          },
          "metadata": {},
          "execution_count": 22
        }
      ]
    },
    {
      "cell_type": "code",
      "source": [
        "# Diffusion operator (U_s)\n",
        "grover_circuit.h([0,1])\n",
        "grover_circuit.z([0,1])\n",
        "grover_circuit.cz(0,1)\n",
        "grover_circuit.h([0,1])\n",
        "grover_circuit.draw()"
      ],
      "metadata": {
        "colab": {
          "base_uri": "https://localhost:8080/",
          "height": 94
        },
        "id": "6VwPSmbZRqXq",
        "outputId": "8b647c84-1bae-4ac5-982e-59187905a272"
      },
      "execution_count": null,
      "outputs": [
        {
          "output_type": "execute_result",
          "data": {
            "text/plain": [
              "     ┌───┐   ┌───┐┌───┐   ┌───┐\n",
              "q_0: ┤ H ├─■─┤ H ├┤ Z ├─■─┤ H ├\n",
              "     ├───┤ │ ├───┤├───┤ │ ├───┤\n",
              "q_1: ┤ H ├─■─┤ H ├┤ Z ├─■─┤ H ├\n",
              "     └───┘   └───┘└───┘   └───┘"
            ],
            "text/html": [
              "<pre style=\"word-wrap: normal;white-space: pre;background: #fff0;line-height: 1.1;font-family: &quot;Courier New&quot;,Courier,monospace\">     ┌───┐   ┌───┐┌───┐   ┌───┐\n",
              "q_0: ┤ H ├─■─┤ H ├┤ Z ├─■─┤ H ├\n",
              "     ├───┤ │ ├───┤├───┤ │ ├───┤\n",
              "q_1: ┤ H ├─■─┤ H ├┤ Z ├─■─┤ H ├\n",
              "     └───┘   └───┘└───┘   └───┘</pre>"
            ]
          },
          "metadata": {},
          "execution_count": 23
        }
      ]
    },
    {
      "cell_type": "code",
      "source": [
        "# sv_sim = AerSimulator()\n",
        "# #sv_sim = Aer.get_backend('statevector_simulator')\n",
        "# result = sv_sim.run(grover_circuit).result()\n",
        "# grover_circuit.save_statevector()\n",
        "# statevec = result.get_statevector(grover_circuit)\n",
        "# # from qiskit.visualization import array_to_latex\n",
        "# # array_to_latex(statevec, prefix=\"|\\\\psi\\\\rangle =\")\n",
        "# print(np.array(statevec))"
      ],
      "metadata": {
        "id": "YYI8kKnlR7pN"
      },
      "execution_count": null,
      "outputs": []
    },
    {
      "cell_type": "code",
      "source": [
        "grover_circuit.measure_all()\n",
        "#qasm_sim = AerSimulator()\n",
        "result = sim.run(grover_circuit).result()\n",
        "counts = result.get_counts()\n",
        "plot_histogram(result.get_counts())"
      ],
      "metadata": {
        "colab": {
          "base_uri": "https://localhost:8080/",
          "height": 461
        },
        "id": "OQDR3Bb8WTYq",
        "outputId": "5f48478f-bd4f-4ca2-baa0-2e5433607716"
      },
      "execution_count": null,
      "outputs": [
        {
          "output_type": "execute_result",
          "data": {
            "text/plain": [
              "<Figure size 700x500 with 1 Axes>"
            ],
            "image/png": "[encoded data removed]"
          },
          "metadata": {},
          "execution_count": 25
        }
      ]
    },
    {
      "cell_type": "code",
      "source": [
        "qc = QuantumCircuit(3)\n",
        "qc.cz(0, 2)\n",
        "qc.cz(1, 2)\n",
        "oracle_ex3 = qc.to_gate()\n",
        "oracle_ex3.name = \"U$_\\omega$\""
      ],
      "metadata": {
        "id": "8NZYW346R_YU"
      },
      "execution_count": null,
      "outputs": []
    },
    {
      "cell_type": "code",
      "source": [
        "def diffuser(nqubits):\n",
        "    qc = QuantumCircuit(nqubits)\n",
        "    # Apply transformation |s> -> |00..0> (H-gates)\n",
        "    for qubit in range(nqubits):\n",
        "        qc.h(qubit)\n",
        "    # Apply transformation |00..0> -> |11..1> (X-gates)\n",
        "    for qubit in range(nqubits):\n",
        "        qc.x(qubit)\n",
        "    # Do multi-controlled-Z gate\n",
        "    qc.h(nqubits-1)\n",
        "    qc.mcx(list(range(nqubits-1)), nqubits-1)  # multi-controlled-toffoli\n",
        "    qc.h(nqubits-1)\n",
        "    # Apply transformation |11..1> -> |00..0>\n",
        "    for qubit in range(nqubits):\n",
        "        qc.x(qubit)\n",
        "    # Apply transformation |00..0> -> |s>\n",
        "    for qubit in range(nqubits):\n",
        "        qc.h(qubit)\n",
        "    # We will return the diffuser as a gate\n",
        "    U_s = qc.to_gate()\n",
        "    U_s.name = \"U$_s$\"\n",
        "    return U_s"
      ],
      "metadata": {
        "id": "wMf2J4hSbl0y"
      },
      "execution_count": null,
      "outputs": []
    },
    {
      "cell_type": "markdown",
      "source": [
        "We'll now put the pieces together, with the creation of a uniform superposition at the start of the circuit and a measurement at the end. Note that since there are 2 solutions and 8 possibilities, we will only need to run one iteration."
      ],
      "metadata": {
        "id": "yvKTA2wbbuGg"
      }
    },
    {
      "cell_type": "code",
      "source": [
        "n = 3\n",
        "grover_circuit = QuantumCircuit(n)\n",
        "grover_circuit = initialize_s(grover_circuit, [0,1,2])\n",
        "grover_circuit.append(oracle_ex3, [0,1,2])\n",
        "grover_circuit.append(diffuser(n), [0,1,2])\n",
        "grover_circuit.measure_all()\n",
        "grover_circuit.draw()"
      ],
      "metadata": {
        "colab": {
          "base_uri": "https://localhost:8080/",
          "height": 156
        },
        "id": "B30QYU1fbn31",
        "outputId": "d5e74a43-7d65-40bf-bca1-ce6a3fb92d59"
      },
      "execution_count": null,
      "outputs": [
        {
          "output_type": "execute_result",
          "data": {
            "text/plain": [
              "        ┌───┐┌─────────────┐┌────────┐ ░ ┌─┐      \n",
              "   q_0: ┤ H ├┤0            ├┤0       ├─░─┤M├──────\n",
              "        ├───┤│             ││        │ ░ └╥┘┌─┐   \n",
              "   q_1: ┤ H ├┤1 U$_\\omega$ ├┤1 U$_s$ ├─░──╫─┤M├───\n",
              "        ├───┤│             ││        │ ░  ║ └╥┘┌─┐\n",
              "   q_2: ┤ H ├┤2            ├┤2       ├─░──╫──╫─┤M├\n",
              "        └───┘└─────────────┘└────────┘ ░  ║  ║ └╥┘\n",
              "meas: 3/══════════════════════════════════╩══╩══╩═\n",
              "                                          0  1  2 "
            ],
            "text/html": [
              "<pre style=\"word-wrap: normal;white-space: pre;background: #fff0;line-height: 1.1;font-family: &quot;Courier New&quot;,Courier,monospace\">        ┌───┐┌─────────────┐┌────────┐ ░ ┌─┐      \n",
              "   q_0: ┤ H ├┤0            ├┤0       ├─░─┤M├──────\n",
              "        ├───┤│             ││        │ ░ └╥┘┌─┐   \n",
              "   q_1: ┤ H ├┤1 U$_\\omega$ ├┤1 U$_s$ ├─░──╫─┤M├───\n",
              "        ├───┤│             ││        │ ░  ║ └╥┘┌─┐\n",
              "   q_2: ┤ H ├┤2            ├┤2       ├─░──╫──╫─┤M├\n",
              "        └───┘└─────────────┘└────────┘ ░  ║  ║ └╥┘\n",
              "meas: 3/══════════════════════════════════╩══╩══╩═\n",
              "                                          0  1  2 </pre>"
            ]
          },
          "metadata": {},
          "execution_count": 28
        }
      ]
    },
    {
      "cell_type": "code",
      "source": [
        "qasm_sim = AerSimulator()\n",
        "transpiled_grover_circuit = transpile(grover_circuit, qasm_sim)\n",
        "results = qasm_sim.run(transpiled_grover_circuit).result()\n",
        "counts = results.get_counts()\n",
        "plot_histogram(counts)"
      ],
      "metadata": {
        "colab": {
          "base_uri": "https://localhost:8080/",
          "height": 472
        },
        "id": "OQw1t_hxbxJc",
        "outputId": "8ba83bca-d54a-42aa-a4cc-1f183cec0723"
      },
      "execution_count": null,
      "outputs": [
        {
          "output_type": "execute_result",
          "data": {
            "text/plain": [
              "<Figure size 700x500 with 1 Axes>"
            ],
            "image/png": "[encoded data removed]"
          },
          "metadata": {},
          "execution_count": 29
        }
      ]
    },
    {
      "cell_type": "code",
      "source": [],
      "metadata": {
        "id": "pLGu5oVCb0uh"
      },
      "execution_count": null,
      "outputs": []
    }
  ]
}