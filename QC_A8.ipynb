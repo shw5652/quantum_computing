{
  "nbformat": 4,
  "nbformat_minor": 0,
  "metadata": {
    "colab": {
      "provenance": [],
      "include_colab_link": true
    },
    "kernelspec": {
      "name": "python3",
      "display_name": "Python 3"
    },
    "language_info": {
      "name": "python"
    }
  },
  "cells": [
    {
      "cell_type": "markdown",
      "metadata": {
        "id": "view-in-github",
        "colab_type": "text"
      },
      "source": [
        "<a href=\"https://colab.research.google.com/github/shw5652/quantum_computing/blob/main/QC_A8.ipynb\" target=\"_parent\"><img src=\"https://colab.research.google.com/assets/colab-badge.svg\" alt=\"Open In Colab\"/></a>"
      ]
    },
    {
      "cell_type": "markdown",
      "source": [
        "**Name : Shweta Kumari**\n",
        "\n",
        "**Roll no : 102297007**\n",
        "\n",
        "**Group : CS7**\n"
      ],
      "metadata": {
        "id": "7ds2gpYyVajT"
      }
    },
    {
      "cell_type": "markdown",
      "source": [
        "\n",
        "\n",
        "---\n",
        "\n"
      ],
      "metadata": {
        "id": "-I9L8gD1acgf"
      }
    },
    {
      "cell_type": "markdown",
      "source": [
        "**Quantum Computing**\n",
        "\n",
        "**Assignment 8**"
      ],
      "metadata": {
        "id": "fTcQvnecad6A"
      }
    },
    {
      "cell_type": "markdown",
      "source": [
        "\n",
        "\n",
        "---\n",
        "\n"
      ],
      "metadata": {
        "id": "cqb2a0m5alhz"
      }
    },
    {
      "cell_type": "code",
      "source": [
        "!pip install qiskit"
      ],
      "metadata": {
        "id": "q6TbK2oTQmbH"
      },
      "execution_count": null,
      "outputs": []
    },
    {
      "cell_type": "code",
      "source": [
        "!pip install qiskit_aer"
      ],
      "metadata": {
        "id": "soprRl1OQmeq"
      },
      "execution_count": null,
      "outputs": []
    },
    {
      "cell_type": "code",
      "execution_count": null,
      "metadata": {
        "id": "1WWL6dJ-Qk8L"
      },
      "outputs": [],
      "source": [
        "# initialization\n",
        "import numpy as np\n",
        "\n",
        "# importing Qiskit\n",
        "\n",
        "from qiskit import QuantumCircuit, transpile\n",
        "\n",
        "# import basic plot tools\n",
        "from qiskit.visualization import plot_histogram"
      ]
    },
    {
      "cell_type": "code",
      "source": [
        "from qiskit_aer import AerSimulator"
      ],
      "metadata": {
        "id": "rEMe-hK4Q3GR"
      },
      "execution_count": null,
      "outputs": []
    },
    {
      "cell_type": "code",
      "source": [
        "# set the length of the n-bit input string.\n",
        "n = 3\n",
        "\n",
        "const_oracle = QuantumCircuit(n+1)\n",
        "\n",
        "output = np.random.randint(2)\n",
        "if output == 1:\n",
        "    const_oracle.x(n)\n",
        "\n",
        "const_oracle.draw()"
      ],
      "metadata": {
        "colab": {
          "base_uri": "https://localhost:8080/",
          "height": 156
        },
        "id": "agrIu-2cROWf",
        "outputId": "216c2f55-bcf6-490b-cda7-2d4eb17ddd50"
      },
      "execution_count": null,
      "outputs": [
        {
          "output_type": "execute_result",
          "data": {
            "text/plain": [
              "     \n",
              "q_0: \n",
              "     \n",
              "q_1: \n",
              "     \n",
              "q_2: \n",
              "     \n",
              "q_3: \n",
              "     "
            ],
            "text/html": [
              "<pre style=\"word-wrap: normal;white-space: pre;background: #fff0;line-height: 1.1;font-family: &quot;Courier New&quot;,Courier,monospace\">     \n",
              "q_0: \n",
              "     \n",
              "q_1: \n",
              "     \n",
              "q_2: \n",
              "     \n",
              "q_3: \n",
              "     </pre>"
            ]
          },
          "metadata": {},
          "execution_count": 41
        }
      ]
    },
    {
      "cell_type": "code",
      "source": [
        "\n",
        "balanced_oracle = QuantumCircuit(n+1)\n",
        "b_str = \"101\"\n",
        "\n",
        "# Place X-gates\n",
        "for qubit in range(len(b_str)):\n",
        "    if b_str[qubit] == '1':\n",
        "        balanced_oracle.x(qubit)\n",
        "balanced_oracle.draw()"
      ],
      "metadata": {
        "colab": {
          "base_uri": "https://localhost:8080/",
          "height": 156
        },
        "id": "xT2jSjrpROYv",
        "outputId": "03824982-de77-4d13-acdc-f5abacbfa7c9"
      },
      "execution_count": null,
      "outputs": [
        {
          "output_type": "execute_result",
          "data": {
            "text/plain": [
              "     ┌───┐\n",
              "q_0: ┤ X ├\n",
              "     └───┘\n",
              "q_1: ─────\n",
              "     ┌───┐\n",
              "q_2: ┤ X ├\n",
              "     └───┘\n",
              "q_3: ─────\n",
              "          "
            ],
            "text/html": [
              "<pre style=\"word-wrap: normal;white-space: pre;background: #fff0;line-height: 1.1;font-family: &quot;Courier New&quot;,Courier,monospace\">     ┌───┐\n",
              "q_0: ┤ X ├\n",
              "     └───┘\n",
              "q_1: ─────\n",
              "     ┌───┐\n",
              "q_2: ┤ X ├\n",
              "     └───┘\n",
              "q_3: ─────\n",
              "          </pre>"
            ]
          },
          "metadata": {},
          "execution_count": 42
        }
      ]
    },
    {
      "cell_type": "code",
      "source": [
        "# Use barrier as divider\n",
        "balanced_oracle.barrier()\n",
        "\n",
        "# Controlled-NOT gates\n",
        "for qubit in range(n):\n",
        "    balanced_oracle.cx(qubit, n)\n",
        "\n",
        "balanced_oracle.barrier()\n",
        "balanced_oracle.draw()"
      ],
      "metadata": {
        "colab": {
          "base_uri": "https://localhost:8080/",
          "height": 156
        },
        "id": "M656CNSFRObL",
        "outputId": "809107a7-4f8d-4735-bf2f-a133a10cd9ca"
      },
      "execution_count": null,
      "outputs": [
        {
          "output_type": "execute_result",
          "data": {
            "text/plain": [
              "     ┌───┐ ░                 ░ \n",
              "q_0: ┤ X ├─░───■─────────────░─\n",
              "     └───┘ ░   │             ░ \n",
              "q_1: ──────░───┼────■────────░─\n",
              "     ┌───┐ ░   │    │        ░ \n",
              "q_2: ┤ X ├─░───┼────┼────■───░─\n",
              "     └───┘ ░ ┌─┴─┐┌─┴─┐┌─┴─┐ ░ \n",
              "q_3: ──────░─┤ X ├┤ X ├┤ X ├─░─\n",
              "           ░ └───┘└───┘└───┘ ░ "
            ],
            "text/html": [
              "<pre style=\"word-wrap: normal;white-space: pre;background: #fff0;line-height: 1.1;font-family: &quot;Courier New&quot;,Courier,monospace\">     ┌───┐ ░                 ░ \n",
              "q_0: ┤ X ├─░───■─────────────░─\n",
              "     └───┘ ░   │             ░ \n",
              "q_1: ──────░───┼────■────────░─\n",
              "     ┌───┐ ░   │    │        ░ \n",
              "q_2: ┤ X ├─░───┼────┼────■───░─\n",
              "     └───┘ ░ ┌─┴─┐┌─┴─┐┌─┴─┐ ░ \n",
              "q_3: ──────░─┤ X ├┤ X ├┤ X ├─░─\n",
              "           ░ └───┘└───┘└───┘ ░ </pre>"
            ]
          },
          "metadata": {},
          "execution_count": 43
        }
      ]
    },
    {
      "cell_type": "code",
      "source": [
        "# Place X-gates\n",
        "for qubit in range(len(b_str)):\n",
        "    if b_str[qubit] == '1':\n",
        "        balanced_oracle.x(qubit)\n",
        "\n",
        "# Show oracle\n",
        "balanced_oracle.draw()"
      ],
      "metadata": {
        "colab": {
          "base_uri": "https://localhost:8080/",
          "height": 156
        },
        "id": "gmwBx_e9ROdq",
        "outputId": "31796a31-21c5-48d3-e26a-400313e447da"
      },
      "execution_count": null,
      "outputs": [
        {
          "output_type": "execute_result",
          "data": {
            "text/plain": [
              "     ┌───┐ ░                 ░ ┌───┐\n",
              "q_0: ┤ X ├─░───■─────────────░─┤ X ├\n",
              "     └───┘ ░   │             ░ └───┘\n",
              "q_1: ──────░───┼────■────────░──────\n",
              "     ┌───┐ ░   │    │        ░ ┌───┐\n",
              "q_2: ┤ X ├─░───┼────┼────■───░─┤ X ├\n",
              "     └───┘ ░ ┌─┴─┐┌─┴─┐┌─┴─┐ ░ └───┘\n",
              "q_3: ──────░─┤ X ├┤ X ├┤ X ├─░──────\n",
              "           ░ └───┘└───┘└───┘ ░      "
            ],
            "text/html": [
              "<pre style=\"word-wrap: normal;white-space: pre;background: #fff0;line-height: 1.1;font-family: &quot;Courier New&quot;,Courier,monospace\">     ┌───┐ ░                 ░ ┌───┐\n",
              "q_0: ┤ X ├─░───■─────────────░─┤ X ├\n",
              "     └───┘ ░   │             ░ └───┘\n",
              "q_1: ──────░───┼────■────────░──────\n",
              "     ┌───┐ ░   │    │        ░ ┌───┐\n",
              "q_2: ┤ X ├─░───┼────┼────■───░─┤ X ├\n",
              "     └───┘ ░ ┌─┴─┐┌─┴─┐┌─┴─┐ ░ └───┘\n",
              "q_3: ──────░─┤ X ├┤ X ├┤ X ├─░──────\n",
              "           ░ └───┘└───┘└───┘ ░      </pre>"
            ]
          },
          "metadata": {},
          "execution_count": 44
        }
      ]
    },
    {
      "cell_type": "code",
      "source": [
        "\n",
        "dj_circuit = QuantumCircuit(n+1, n)\n",
        "\n",
        "# Apply H-gates\n",
        "for qubit in range(n):\n",
        "    dj_circuit.h(qubit)\n",
        "\n",
        "# Put qubit in state |->\n",
        "dj_circuit.x(n)\n",
        "dj_circuit.h(n)\n",
        "dj_circuit.draw()"
      ],
      "metadata": {
        "colab": {
          "base_uri": "https://localhost:8080/",
          "height": 186
        },
        "id": "ELtRO8cNROgE",
        "outputId": "5c6329be-2443-4f3f-9c72-cbe8a64b17e0"
      },
      "execution_count": null,
      "outputs": [
        {
          "output_type": "execute_result",
          "data": {
            "text/plain": [
              "     ┌───┐     \n",
              "q_0: ┤ H ├─────\n",
              "     ├───┤     \n",
              "q_1: ┤ H ├─────\n",
              "     ├───┤     \n",
              "q_2: ┤ H ├─────\n",
              "     ├───┤┌───┐\n",
              "q_3: ┤ X ├┤ H ├\n",
              "     └───┘└───┘\n",
              "c: 3/══════════\n",
              "               "
            ],
            "text/html": [
              "<pre style=\"word-wrap: normal;white-space: pre;background: #fff0;line-height: 1.1;font-family: &quot;Courier New&quot;,Courier,monospace\">     ┌───┐     \n",
              "q_0: ┤ H ├─────\n",
              "     ├───┤     \n",
              "q_1: ┤ H ├─────\n",
              "     ├───┤     \n",
              "q_2: ┤ H ├─────\n",
              "     ├───┤┌───┐\n",
              "q_3: ┤ X ├┤ H ├\n",
              "     └───┘└───┘\n",
              "c: 3/══════════\n",
              "               </pre>"
            ]
          },
          "metadata": {},
          "execution_count": 45
        }
      ]
    },
    {
      "cell_type": "code",
      "source": [
        "# Add oracle\n",
        "dj_circuit = dj_circuit.compose(balanced_oracle)\n",
        "dj_circuit.draw()"
      ],
      "metadata": {
        "colab": {
          "base_uri": "https://localhost:8080/",
          "height": 186
        },
        "id": "xrs8REZJROit",
        "outputId": "915051f2-830f-47d8-dba0-83667d158d48"
      },
      "execution_count": null,
      "outputs": [
        {
          "output_type": "execute_result",
          "data": {
            "text/plain": [
              "     ┌───┐┌───┐ ░                 ░ ┌───┐\n",
              "q_0: ┤ H ├┤ X ├─░───■─────────────░─┤ X ├\n",
              "     ├───┤└───┘ ░   │             ░ └───┘\n",
              "q_1: ┤ H ├──────░───┼────■────────░──────\n",
              "     ├───┤┌───┐ ░   │    │        ░ ┌───┐\n",
              "q_2: ┤ H ├┤ X ├─░───┼────┼────■───░─┤ X ├\n",
              "     ├───┤├───┤ ░ ┌─┴─┐┌─┴─┐┌─┴─┐ ░ └───┘\n",
              "q_3: ┤ X ├┤ H ├─░─┤ X ├┤ X ├┤ X ├─░──────\n",
              "     └───┘└───┘ ░ └───┘└───┘└───┘ ░      \n",
              "c: 3/════════════════════════════════════\n",
              "                                         "
            ],
            "text/html": [
              "<pre style=\"word-wrap: normal;white-space: pre;background: #fff0;line-height: 1.1;font-family: &quot;Courier New&quot;,Courier,monospace\">     ┌───┐┌───┐ ░                 ░ ┌───┐\n",
              "q_0: ┤ H ├┤ X ├─░───■─────────────░─┤ X ├\n",
              "     ├───┤└───┘ ░   │             ░ └───┘\n",
              "q_1: ┤ H ├──────░───┼────■────────░──────\n",
              "     ├───┤┌───┐ ░   │    │        ░ ┌───┐\n",
              "q_2: ┤ H ├┤ X ├─░───┼────┼────■───░─┤ X ├\n",
              "     ├───┤├───┤ ░ ┌─┴─┐┌─┴─┐┌─┴─┐ ░ └───┘\n",
              "q_3: ┤ X ├┤ H ├─░─┤ X ├┤ X ├┤ X ├─░──────\n",
              "     └───┘└───┘ ░ └───┘└───┘└───┘ ░      \n",
              "c: 3/════════════════════════════════════\n",
              "                                         </pre>"
            ]
          },
          "metadata": {},
          "execution_count": 46
        }
      ]
    },
    {
      "cell_type": "code",
      "source": [
        "# Repeat H-gates\n",
        "for qubit in range(n):\n",
        "    dj_circuit.h(qubit)\n",
        "dj_circuit.barrier()\n",
        "\n",
        "# Measure\n",
        "for i in range(n):\n",
        "    dj_circuit.measure(i, i)\n",
        "\n",
        "# Display circuit\n",
        "dj_circuit.draw()"
      ],
      "metadata": {
        "colab": {
          "base_uri": "https://localhost:8080/",
          "height": 186
        },
        "id": "HZHWLzRjROlE",
        "outputId": "50161d16-a5fb-4c3b-e5a4-62b671def737"
      },
      "execution_count": null,
      "outputs": [
        {
          "output_type": "execute_result",
          "data": {
            "text/plain": [
              "     ┌───┐┌───┐ ░                 ░ ┌───┐┌───┐ ░ ┌─┐      \n",
              "q_0: ┤ H ├┤ X ├─░───■─────────────░─┤ X ├┤ H ├─░─┤M├──────\n",
              "     ├───┤└───┘ ░   │             ░ ├───┤└───┘ ░ └╥┘┌─┐   \n",
              "q_1: ┤ H ├──────░───┼────■────────░─┤ H ├──────░──╫─┤M├───\n",
              "     ├───┤┌───┐ ░   │    │        ░ ├───┤┌───┐ ░  ║ └╥┘┌─┐\n",
              "q_2: ┤ H ├┤ X ├─░───┼────┼────■───░─┤ X ├┤ H ├─░──╫──╫─┤M├\n",
              "     ├───┤├───┤ ░ ┌─┴─┐┌─┴─┐┌─┴─┐ ░ └───┘└───┘ ░  ║  ║ └╥┘\n",
              "q_3: ┤ X ├┤ H ├─░─┤ X ├┤ X ├┤ X ├─░────────────░──╫──╫──╫─\n",
              "     └───┘└───┘ ░ └───┘└───┘└───┘ ░            ░  ║  ║  ║ \n",
              "c: 3/═════════════════════════════════════════════╩══╩══╩═\n",
              "                                                  0  1  2 "
            ],
            "text/html": [
              "<pre style=\"word-wrap: normal;white-space: pre;background: #fff0;line-height: 1.1;font-family: &quot;Courier New&quot;,Courier,monospace\">     ┌───┐┌───┐ ░                 ░ ┌───┐┌───┐ ░ ┌─┐      \n",
              "q_0: ┤ H ├┤ X ├─░───■─────────────░─┤ X ├┤ H ├─░─┤M├──────\n",
              "     ├───┤└───┘ ░   │             ░ ├───┤└───┘ ░ └╥┘┌─┐   \n",
              "q_1: ┤ H ├──────░───┼────■────────░─┤ H ├──────░──╫─┤M├───\n",
              "     ├───┤┌───┐ ░   │    │        ░ ├───┤┌───┐ ░  ║ └╥┘┌─┐\n",
              "q_2: ┤ H ├┤ X ├─░───┼────┼────■───░─┤ X ├┤ H ├─░──╫──╫─┤M├\n",
              "     ├───┤├───┤ ░ ┌─┴─┐┌─┴─┐┌─┴─┐ ░ └───┘└───┘ ░  ║  ║ └╥┘\n",
              "q_3: ┤ X ├┤ H ├─░─┤ X ├┤ X ├┤ X ├─░────────────░──╫──╫──╫─\n",
              "     └───┘└───┘ ░ └───┘└───┘└───┘ ░            ░  ║  ║  ║ \n",
              "c: 3/═════════════════════════════════════════════╩══╩══╩═\n",
              "                                                  0  1  2 </pre>"
            ]
          },
          "metadata": {},
          "execution_count": 47
        }
      ]
    },
    {
      "cell_type": "code",
      "source": [
        "# use local simulator\n",
        "aer_sim = AerSimulator()\n",
        "results = aer_sim.run(dj_circuit).result()\n",
        "answer = results.get_counts()\n",
        "\n",
        "plot_histogram(answer)"
      ],
      "metadata": {
        "colab": {
          "base_uri": "https://localhost:8080/",
          "height": 473
        },
        "id": "P_uNFknsROnq",
        "outputId": "0465d8bd-4fa2-4db7-b40a-9cb669001cdd"
      },
      "execution_count": null,
      "outputs": [
        {
          "output_type": "execute_result",
          "data": {
            "text/plain": [
              "<Figure size 700x500 with 1 Axes>"
            ],
            "image/png": "[encoded data removed]"
          },
          "metadata": {},
          "execution_count": 49
        }
      ]
    },
    {
      "cell_type": "code",
      "source": [],
      "metadata": {
        "id": "1HhBbEeLUxkv"
      },
      "execution_count": null,
      "outputs": []
    },
    {
      "cell_type": "code",
      "source": [
        "\n",
        "# ...we have a 0% chance of measuring 000.\n",
        "assert answer.get('000', 0) == 0"
      ],
      "metadata": {
        "id": "nmPwfMncROqY"
      },
      "execution_count": null,
      "outputs": []
    },
    {
      "cell_type": "code",
      "source": [
        "def dj_oracle(case, n):\n",
        "    # We need to make a QuantumCircuit object to return\n",
        "    # This circuit has n+1 qubits: the size of the input,\n",
        "    # plus one output qubit\n",
        "    oracle_qc = QuantumCircuit(n+1)\n",
        "\n",
        "    # First, let's deal with the case in which oracle is balanced\n",
        "    if case == \"balanced\":\n",
        "        # First generate a random number that tells us which CNOTs to\n",
        "        # wrap in X-gates:\n",
        "        b = np.random.randint(1,2**n)\n",
        "        # Next, format 'b' as a binary string of length 'n', padded with zeros:\n",
        "        b_str = format(b, '0'+str(n)+'b')\n",
        "        # Next, we place the first X-gates. Each digit in our binary string\n",
        "        # corresponds to a qubit, if the digit is 0, we do nothing, if it's 1\n",
        "        # we apply an X-gate to that qubit:\n",
        "        for qubit in range(len(b_str)):\n",
        "            if b_str[qubit] == '1':\n",
        "                oracle_qc.x(qubit)\n",
        "        # Do the controlled-NOT gates for each qubit, using the output qubit\n",
        "        # as the target:\n",
        "        for qubit in range(n):\n",
        "            oracle_qc.cx(qubit, n)\n",
        "        # Next, place the final X-gates\n",
        "        for qubit in range(len(b_str)):\n",
        "            if b_str[qubit] == '1':\n",
        "                oracle_qc.x(qubit)\n",
        "\n",
        "    # Case in which oracle is constant\n",
        "    if case == \"constant\":\n",
        "        # First decide what the fixed output of the oracle will be\n",
        "        # (either always 0 or always 1)\n",
        "        output = np.random.randint(2)\n",
        "        if output == 1:\n",
        "            oracle_qc.x(n)\n",
        "\n",
        "    oracle_gate = oracle_qc.to_gate()\n",
        "    oracle_gate.name = \"Oracle\" # To show when we display the circuit\n",
        "    return oracle_gate"
      ],
      "metadata": {
        "id": "PUOyZ5whROt9"
      },
      "execution_count": null,
      "outputs": []
    },
    {
      "cell_type": "code",
      "source": [
        "def dj_algorithm(oracle, n):\n",
        "    dj_circuit = QuantumCircuit(n+1, n)\n",
        "    # Set up the output qubit:\n",
        "    dj_circuit.x(n)\n",
        "    dj_circuit.h(n)\n",
        "    # And set up the input register:\n",
        "    for qubit in range(n):\n",
        "        dj_circuit.h(qubit)\n",
        "    # Let's append the oracle gate to our circuit:\n",
        "    dj_circuit.append(oracle, range(n+1))\n",
        "    # Finally, perform the H-gates again and measure:\n",
        "    for qubit in range(n):\n",
        "        dj_circuit.h(qubit)\n",
        "\n",
        "    for i in range(n):\n",
        "        dj_circuit.measure(i, i)\n",
        "\n",
        "    return dj_circuit"
      ],
      "metadata": {
        "id": "ib8SxDB8SkDb"
      },
      "execution_count": null,
      "outputs": []
    },
    {
      "cell_type": "code",
      "source": [
        "n = 4\n",
        "oracle_gate = dj_oracle('balanced', n)\n",
        "dj_circuit = dj_algorithm(oracle_gate, n)\n",
        "dj_circuit.draw()"
      ],
      "metadata": {
        "colab": {
          "base_uri": "https://localhost:8080/",
          "height": 217
        },
        "id": "ZEuTup_6SkF8",
        "outputId": "5a5fbaf4-bc2d-463c-b0b7-8b6d24e90fc8"
      },
      "execution_count": null,
      "outputs": [
        {
          "output_type": "execute_result",
          "data": {
            "text/plain": [
              "     ┌───┐     ┌─────────┐┌───┐┌─┐         \n",
              "q_0: ┤ H ├─────┤0        ├┤ H ├┤M├─────────\n",
              "     ├───┤     │         │├───┤└╥┘┌─┐      \n",
              "q_1: ┤ H ├─────┤1        ├┤ H ├─╫─┤M├──────\n",
              "     ├───┤     │         │├───┤ ║ └╥┘┌─┐   \n",
              "q_2: ┤ H ├─────┤2 Oracle ├┤ H ├─╫──╫─┤M├───\n",
              "     ├───┤     │         │├───┤ ║  ║ └╥┘┌─┐\n",
              "q_3: ┤ H ├─────┤3        ├┤ H ├─╫──╫──╫─┤M├\n",
              "     ├───┤┌───┐│         │└───┘ ║  ║  ║ └╥┘\n",
              "q_4: ┤ X ├┤ H ├┤4        ├──────╫──╫──╫──╫─\n",
              "     └───┘└───┘└─────────┘      ║  ║  ║  ║ \n",
              "c: 4/═══════════════════════════╩══╩══╩══╩═\n",
              "                                0  1  2  3 "
            ],
            "text/html": [
              "<pre style=\"word-wrap: normal;white-space: pre;background: #fff0;line-height: 1.1;font-family: &quot;Courier New&quot;,Courier,monospace\">     ┌───┐     ┌─────────┐┌───┐┌─┐         \n",
              "q_0: ┤ H ├─────┤0        ├┤ H ├┤M├─────────\n",
              "     ├───┤     │         │├───┤└╥┘┌─┐      \n",
              "q_1: ┤ H ├─────┤1        ├┤ H ├─╫─┤M├──────\n",
              "     ├───┤     │         │├───┤ ║ └╥┘┌─┐   \n",
              "q_2: ┤ H ├─────┤2 Oracle ├┤ H ├─╫──╫─┤M├───\n",
              "     ├───┤     │         │├───┤ ║  ║ └╥┘┌─┐\n",
              "q_3: ┤ H ├─────┤3        ├┤ H ├─╫──╫──╫─┤M├\n",
              "     ├───┤┌───┐│         │└───┘ ║  ║  ║ └╥┘\n",
              "q_4: ┤ X ├┤ H ├┤4        ├──────╫──╫──╫──╫─\n",
              "     └───┘└───┘└─────────┘      ║  ║  ║  ║ \n",
              "c: 4/═══════════════════════════╩══╩══╩══╩═\n",
              "                                0  1  2  3 </pre>"
            ]
          },
          "metadata": {},
          "execution_count": 54
        }
      ]
    },
    {
      "cell_type": "code",
      "source": [
        "transpiled_dj_circuit = transpile(dj_circuit, aer_sim)\n",
        "results = aer_sim.run(transpiled_dj_circuit).result()\n",
        "answer = results.get_counts()\n",
        "plot_histogram(answer)"
      ],
      "metadata": {
        "colab": {
          "base_uri": "https://localhost:8080/",
          "height": 484
        },
        "id": "SIuXBw0GSkJb",
        "outputId": "3a779182-fdf6-4980-f70c-601b0d6179c6"
      },
      "execution_count": null,
      "outputs": [
        {
          "output_type": "execute_result",
          "data": {
            "text/plain": [
              "<Figure size 700x500 with 1 Axes>"
            ],
            "image/png": "[encoded data removed]"
          },
          "metadata": {},
          "execution_count": 55
        }
      ]
    }
  ]
}