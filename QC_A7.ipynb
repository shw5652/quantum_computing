{
  "nbformat": 4,
  "nbformat_minor": 0,
  "metadata": {
    "colab": {
      "provenance": [],
      "include_colab_link": true
    },
    "kernelspec": {
      "name": "python3",
      "display_name": "Python 3"
    },
    "language_info": {
      "name": "python"
    }
  },
  "cells": [
    {
      "cell_type": "markdown",
      "metadata": {
        "id": "view-in-github",
        "colab_type": "text"
      },
      "source": [
        "<a href=\"https://colab.research.google.com/github/shw5652/quantum_computing/blob/main/QC_A7.ipynb\" target=\"_parent\"><img src=\"https://colab.research.google.com/assets/colab-badge.svg\" alt=\"Open In Colab\"/></a>"
      ]
    },
    {
      "cell_type": "markdown",
      "source": [
        "**Name : Shweta Kumari**\n",
        "\n",
        "**Roll No : 102297007**\n",
        "\n",
        "**Group : CS7**\n",
        "\n",
        "\n",
        "\n",
        "---\n",
        "\n",
        "\n"
      ],
      "metadata": {
        "id": "lu35XQDVKeQx"
      }
    },
    {
      "cell_type": "markdown",
      "source": [
        "**Quantum Computing**\n",
        "\n",
        "**Assignment 7 : QKD**\n"
      ],
      "metadata": {
        "id": "JvFvbpyZY2kl"
      }
    },
    {
      "cell_type": "markdown",
      "source": [
        "\n",
        "\n",
        "---\n",
        "\n"
      ],
      "metadata": {
        "id": "hAYZULKkY_cP"
      }
    },
    {
      "cell_type": "code",
      "execution_count": null,
      "metadata": {
        "id": "zeJZvtn2B4Ro"
      },
      "outputs": [],
      "source": [
        "!pip install qiskit"
      ]
    },
    {
      "cell_type": "code",
      "source": [
        "!pip install qiskit_aer"
      ],
      "metadata": {
        "id": "_-YRaJWlEMdp"
      },
      "execution_count": null,
      "outputs": []
    },
    {
      "cell_type": "code",
      "source": [
        "from qiskit import QuantumCircuit, transpile\n",
        "from qiskit.visualization import plot_histogram, plot_bloch_multivector\n",
        "from numpy.random import randint\n",
        "import numpy as np"
      ],
      "metadata": {
        "id": "nGxFv8apEUdX"
      },
      "execution_count": null,
      "outputs": []
    },
    {
      "cell_type": "code",
      "source": [
        "from qiskit_aer import AerSimulator"
      ],
      "metadata": {
        "id": "71xQau_XEbuz"
      },
      "execution_count": null,
      "outputs": []
    },
    {
      "cell_type": "code",
      "source": [
        "qc = QuantumCircuit(1,1)\n",
        "# Alice prepares qubit in state |+>\n",
        "qc.h(0)\n",
        "qc.barrier()\n",
        "# Alice now sends the qubit to Bob\n",
        "# who measures it in the X-basis\n",
        "qc.h(0)\n",
        "qc.measure(0,0)\n",
        "\n",
        "# Draw and simulate circuit\n",
        "display(qc.draw())\n",
        "aer_sim = AerSimulator()\n",
        "job = aer_sim.run(qc)\n",
        "plot_histogram(job.result().get_counts())"
      ],
      "metadata": {
        "colab": {
          "base_uri": "https://localhost:8080/",
          "height": 526
        },
        "id": "D-6IURHbEgwO",
        "outputId": "dda61340-96b6-46bb-910b-48f43184bb14"
      },
      "execution_count": null,
      "outputs": [
        {
          "output_type": "display_data",
          "data": {
            "text/plain": [
              "     ┌───┐ ░ ┌───┐┌─┐\n",
              "  q: ┤ H ├─░─┤ H ├┤M├\n",
              "     └───┘ ░ └───┘└╥┘\n",
              "c: 1/══════════════╩═\n",
              "                   0 "
            ],
            "text/html": [
              "<pre style=\"word-wrap: normal;white-space: pre;background: #fff0;line-height: 1.1;font-family: &quot;Courier New&quot;,Courier,monospace\">     ┌───┐ ░ ┌───┐┌─┐\n",
              "  q: ┤ H ├─░─┤ H ├┤M├\n",
              "     └───┘ ░ └───┘└╥┘\n",
              "c: 1/══════════════╩═\n",
              "                   0 </pre>"
            ]
          },
          "metadata": {}
        },
        {
          "output_type": "execute_result",
          "data": {
            "text/plain": [
              "<Figure size 700x500 with 1 Axes>"
            ],
            "image/png": "[encoded data removed]"
          },
          "metadata": {},
          "execution_count": 5
        }
      ]
    },
    {
      "cell_type": "code",
      "source": [
        "qc = QuantumCircuit(1,1)\n",
        "# Alice prepares qubit in state |+>\n",
        "qc.h(0)\n",
        "# Alice now sends the qubit to Bob\n",
        "# but Eve intercepts and tries to read it\n",
        "qc.measure(0, 0)\n",
        "qc.barrier()\n",
        "# Eve then passes this on to Bob\n",
        "# who measures it in the X-basis\n",
        "qc.h(0)\n",
        "qc.measure(0,0)\n",
        "\n",
        "# Draw and simulate circuit\n",
        "display(qc.draw())\n",
        "aer_sim =AerSimulator()\n",
        "job = aer_sim.run(qc)\n",
        "plot_histogram(job.result().get_counts())"
      ],
      "metadata": {
        "colab": {
          "base_uri": "https://localhost:8080/",
          "height": 526
        },
        "id": "tW-hBvhDHOfV",
        "outputId": "5f220672-5a8e-473a-85c6-cd2dd0571fb6"
      },
      "execution_count": null,
      "outputs": [
        {
          "output_type": "display_data",
          "data": {
            "text/plain": [
              "     ┌───┐┌─┐ ░ ┌───┐┌─┐\n",
              "  q: ┤ H ├┤M├─░─┤ H ├┤M├\n",
              "     └───┘└╥┘ ░ └───┘└╥┘\n",
              "c: 1/══════╩══════════╩═\n",
              "           0          0 "
            ],
            "text/html": [
              "<pre style=\"word-wrap: normal;white-space: pre;background: #fff0;line-height: 1.1;font-family: &quot;Courier New&quot;,Courier,monospace\">     ┌───┐┌─┐ ░ ┌───┐┌─┐\n",
              "  q: ┤ H ├┤M├─░─┤ H ├┤M├\n",
              "     └───┘└╥┘ ░ └───┘└╥┘\n",
              "c: 1/══════╩══════════╩═\n",
              "           0          0 </pre>"
            ]
          },
          "metadata": {}
        },
        {
          "output_type": "execute_result",
          "data": {
            "text/plain": [
              "<Figure size 700x500 with 1 Axes>"
            ],
            "image/png": "[encoded data removed]"
          },
          "metadata": {},
          "execution_count": 6
        }
      ]
    },
    {
      "cell_type": "code",
      "source": [
        "#Alice generates her random set of bits\n",
        "np.random.seed(seed=0)\n",
        "n = 100\n",
        "## Step 1\n",
        "# Alice generates bits\n",
        "alice_bits = randint(2, size=n)\n",
        "print(alice_bits)"
      ],
      "metadata": {
        "colab": {
          "base_uri": "https://localhost:8080/"
        },
        "id": "Pa3mohIJHdmX",
        "outputId": "2b6d594d-a8d6-4bbb-c206-0d70e5be6ef1"
      },
      "execution_count": null,
      "outputs": [
        {
          "output_type": "stream",
          "name": "stdout",
          "text": [
            "[0 1 1 0 1 1 1 1 1 1 1 0 0 1 0 0 0 0 0 1 0 1 1 0 0 1 1 1 1 0 1 0 1 0 1 1 0\n",
            " 1 1 0 0 1 0 1 1 1 1 1 0 1 0 1 1 1 1 0 1 0 0 1 1 0 1 0 1 0 0 0 0 0 1 1 0 0\n",
            " 0 1 1 0 1 0 0 1 0 1 1 1 1 1 1 0 1 1 0 0 1 0 0 1 1 0]\n"
          ]
        }
      ]
    },
    {
      "cell_type": "code",
      "source": [
        "## Step 2\n",
        "# Create an array to tell us which qubits\n",
        "# are encoded in which bases\n",
        "alice_bases = randint(2, size=n)\n",
        "print(alice_bases)"
      ],
      "metadata": {
        "colab": {
          "base_uri": "https://localhost:8080/"
        },
        "id": "ndbhUhbDHta8",
        "outputId": "0a1b37ad-37c1-46b0-ffde-a6bfe51b9117"
      },
      "execution_count": null,
      "outputs": [
        {
          "output_type": "stream",
          "name": "stdout",
          "text": [
            "[1 0 0 1 0 0 0 1 1 0 1 0 0 0 0 0 1 0 1 0 1 1 1 1 1 0 1 1 1 1 0 1 1 0 0 1 0\n",
            " 0 0 0 1 1 0 0 1 0 1 1 1 1 0 0 0 1 0 1 1 1 0 1 0 0 1 0 1 1 0 0 1 0 1 0 1 0\n",
            " 1 0 1 0 0 0 1 0 1 0 1 0 0 0 0 0 1 0 0 1 0 0 0 1 0 0]\n"
          ]
        }
      ]
    },
    {
      "cell_type": "code",
      "source": [
        "def encode_message(bits, bases):\n",
        "    message = []\n",
        "    for i in range(n):\n",
        "        qc = QuantumCircuit(1,1)\n",
        "        if bases[i] == 0: # Prepare qubit in Z-basis\n",
        "            if bits[i] == 0:\n",
        "                pass\n",
        "            else:\n",
        "                qc.x(0)\n",
        "        else: # Prepare qubit in X-basis\n",
        "            if bits[i] == 0:\n",
        "                qc.h(0)\n",
        "            else:\n",
        "                qc.x(0)\n",
        "                qc.h(0)\n",
        "        qc.barrier()\n",
        "        message.append(qc)\n",
        "    return message"
      ],
      "metadata": {
        "id": "eVp5eDl2IEY4"
      },
      "execution_count": null,
      "outputs": []
    },
    {
      "cell_type": "code",
      "source": [
        "np.random.seed(seed=0)\n",
        "n = 100\n",
        "\n",
        "## Step 1\n",
        "# Alice generates bits\n",
        "alice_bits = randint(2, size=n)\n",
        "\n",
        "## Step 2\n",
        "# Create an array to tell us which qubits\n",
        "# are encoded in which bases\n",
        "alice_bases = randint(2, size=n)\n",
        "message = encode_message(alice_bits, alice_bases)"
      ],
      "metadata": {
        "id": "L845lY5fMZPD"
      },
      "execution_count": null,
      "outputs": []
    },
    {
      "cell_type": "code",
      "source": [
        "print('bit = %i' % alice_bits[0])\n",
        "print('basis = %i' % alice_bases[0])"
      ],
      "metadata": {
        "colab": {
          "base_uri": "https://localhost:8080/"
        },
        "id": "LYQGA1d7MdIZ",
        "outputId": "f7993583-54c3-4df2-8b32-c3ae2c085767"
      },
      "execution_count": null,
      "outputs": [
        {
          "output_type": "stream",
          "name": "stdout",
          "text": [
            "bit = 0\n",
            "basis = 1\n"
          ]
        }
      ]
    },
    {
      "cell_type": "code",
      "source": [
        "message[0].draw()"
      ],
      "metadata": {
        "colab": {
          "base_uri": "https://localhost:8080/",
          "height": 94
        },
        "id": "YFG_pNGQMiKg",
        "outputId": "ea5e9f0b-7faf-46bb-c450-afa521e8f614"
      },
      "execution_count": null,
      "outputs": [
        {
          "output_type": "execute_result",
          "data": {
            "text/plain": [
              "     ┌───┐ ░ \n",
              "  q: ┤ H ├─░─\n",
              "     └───┘ ░ \n",
              "c: 1/════════\n",
              "             "
            ],
            "text/html": [
              "<pre style=\"word-wrap: normal;white-space: pre;background: #fff0;line-height: 1.1;font-family: &quot;Courier New&quot;,Courier,monospace\">     ┌───┐ ░ \n",
              "  q: ┤ H ├─░─\n",
              "     └───┘ ░ \n",
              "c: 1/════════\n",
              "             </pre>"
            ]
          },
          "metadata": {},
          "execution_count": 12
        }
      ]
    },
    {
      "cell_type": "code",
      "source": [
        "print('bit = %i' % alice_bits[4])\n",
        "print('basis = %i' % alice_bases[4])\n",
        "message[4].draw()"
      ],
      "metadata": {
        "colab": {
          "base_uri": "https://localhost:8080/",
          "height": 129
        },
        "id": "CofUJytyMnJV",
        "outputId": "5de6da4e-94b8-4441-8eb2-b8bc64d15f89"
      },
      "execution_count": null,
      "outputs": [
        {
          "output_type": "stream",
          "name": "stdout",
          "text": [
            "bit = 1\n",
            "basis = 0\n"
          ]
        },
        {
          "output_type": "execute_result",
          "data": {
            "text/plain": [
              "     ┌───┐ ░ \n",
              "  q: ┤ X ├─░─\n",
              "     └───┘ ░ \n",
              "c: 1/════════\n",
              "             "
            ],
            "text/html": [
              "<pre style=\"word-wrap: normal;white-space: pre;background: #fff0;line-height: 1.1;font-family: &quot;Courier New&quot;,Courier,monospace\">     ┌───┐ ░ \n",
              "  q: ┤ X ├─░─\n",
              "     └───┘ ░ \n",
              "c: 1/════════\n",
              "             </pre>"
            ]
          },
          "metadata": {},
          "execution_count": 13
        }
      ]
    },
    {
      "cell_type": "code",
      "source": [
        "## Step 3\n",
        "# Decide which basis to measure in:\n",
        "bob_bases = randint(2, size=n)\n",
        "print(bob_bases)"
      ],
      "metadata": {
        "colab": {
          "base_uri": "https://localhost:8080/"
        },
        "id": "cueEyn5iMxQm",
        "outputId": "f6792bf6-6622-4bd1-97f5-830bbe016958"
      },
      "execution_count": null,
      "outputs": [
        {
          "output_type": "stream",
          "name": "stdout",
          "text": [
            "[1 0 1 0 0 1 1 0 0 0 1 1 0 0 0 0 0 1 0 1 0 0 0 1 1 1 0 0 1 1 1 1 0 0 0 1 1\n",
            " 0 1 0 0 1 0 1 1 1 1 0 0 0 1 1 1 0 1 1 1 1 0 0 1 1 0 0 0 1 1 0 1 1 1 1 1 0\n",
            " 0 0 1 0 1 0 1 1 0 0 0 1 0 0 1 1 1 1 0 1 0 0 0 0 1 1]\n"
          ]
        }
      ]
    },
    {
      "cell_type": "code",
      "source": [
        "def measure_message(message, bases):\n",
        "    backend =AerSimulator()\n",
        "    measurements = []\n",
        "    for q in range(n):\n",
        "        if bases[q] == 0: # measuring in Z-basis\n",
        "            message[q].measure(0,0)\n",
        "        if bases[q] == 1: # measuring in X-basis\n",
        "            message[q].h(0)\n",
        "            message[q].measure(0,0)\n",
        "        aer_sim = AerSimulator()\n",
        "        result = aer_sim.run(message[q], shots=1, memory=True).result()\n",
        "        measured_bit = int(result.get_memory()[0])\n",
        "        measurements.append(measured_bit)\n",
        "    return measurements"
      ],
      "metadata": {
        "id": "fDvRMGgAM3an"
      },
      "execution_count": null,
      "outputs": []
    },
    {
      "cell_type": "code",
      "source": [
        "bob_results = measure_message(message, bob_bases)\n",
        "message[0].draw()"
      ],
      "metadata": {
        "colab": {
          "base_uri": "https://localhost:8080/",
          "height": 94
        },
        "id": "FF9cCiPVNDLZ",
        "outputId": "5e19edb6-e120-49af-a7b4-4c2d934f5beb"
      },
      "execution_count": null,
      "outputs": [
        {
          "output_type": "execute_result",
          "data": {
            "text/plain": [
              "     ┌───┐ ░ ┌───┐┌─┐\n",
              "  q: ┤ H ├─░─┤ H ├┤M├\n",
              "     └───┘ ░ └───┘└╥┘\n",
              "c: 1/══════════════╩═\n",
              "                   0 "
            ],
            "text/html": [
              "<pre style=\"word-wrap: normal;white-space: pre;background: #fff0;line-height: 1.1;font-family: &quot;Courier New&quot;,Courier,monospace\">     ┌───┐ ░ ┌───┐┌─┐\n",
              "  q: ┤ H ├─░─┤ H ├┤M├\n",
              "     └───┘ ░ └───┘└╥┘\n",
              "c: 1/══════════════╩═\n",
              "                   0 </pre>"
            ]
          },
          "metadata": {},
          "execution_count": 16
        }
      ]
    },
    {
      "cell_type": "code",
      "source": [
        "message[6].draw()"
      ],
      "metadata": {
        "colab": {
          "base_uri": "https://localhost:8080/",
          "height": 94
        },
        "id": "gw70fhLuNeV-",
        "outputId": "47cf4279-ad4c-4283-f7f6-cc49fa0a6a9c"
      },
      "execution_count": null,
      "outputs": [
        {
          "output_type": "execute_result",
          "data": {
            "text/plain": [
              "     ┌───┐ ░ ┌───┐┌─┐\n",
              "  q: ┤ X ├─░─┤ H ├┤M├\n",
              "     └───┘ ░ └───┘└╥┘\n",
              "c: 1/══════════════╩═\n",
              "                   0 "
            ],
            "text/html": [
              "<pre style=\"word-wrap: normal;white-space: pre;background: #fff0;line-height: 1.1;font-family: &quot;Courier New&quot;,Courier,monospace\">     ┌───┐ ░ ┌───┐┌─┐\n",
              "  q: ┤ X ├─░─┤ H ├┤M├\n",
              "     └───┘ ░ └───┘└╥┘\n",
              "c: 1/══════════════╩═\n",
              "                   0 </pre>"
            ]
          },
          "metadata": {},
          "execution_count": 17
        }
      ]
    },
    {
      "cell_type": "code",
      "source": [
        "print(bob_results)"
      ],
      "metadata": {
        "colab": {
          "base_uri": "https://localhost:8080/"
        },
        "id": "ofWaZ8WhNilI",
        "outputId": "e3192799-e191-4d89-9f2f-8672cd25311e"
      },
      "execution_count": null,
      "outputs": [
        {
          "output_type": "stream",
          "name": "stdout",
          "text": [
            "[0, 1, 0, 0, 1, 1, 0, 0, 1, 1, 1, 1, 0, 1, 0, 0, 1, 1, 0, 0, 0, 0, 1, 0, 0, 1, 1, 1, 1, 0, 0, 0, 1, 0, 1, 1, 0, 1, 1, 0, 1, 1, 0, 1, 1, 0, 1, 0, 0, 1, 1, 0, 0, 0, 1, 0, 1, 0, 0, 1, 0, 1, 1, 0, 0, 0, 1, 0, 0, 1, 1, 0, 0, 0, 0, 1, 1, 0, 1, 0, 0, 1, 0, 1, 1, 1, 1, 1, 0, 1, 1, 1, 0, 0, 1, 0, 0, 1, 1, 1]\n"
          ]
        }
      ]
    },
    {
      "cell_type": "code",
      "source": [
        "def remove_garbage(a_bases, b_bases, bits):\n",
        "    good_bits = []\n",
        "    for q in range(n):\n",
        "        if a_bases[q] == b_bases[q]:\n",
        "            # If both used the same basis, add\n",
        "            # this to the list of 'good' bits\n",
        "            good_bits.append(bits[q])\n",
        "    return good_bits"
      ],
      "metadata": {
        "id": "vAq5Vp0uRjCA"
      },
      "execution_count": null,
      "outputs": []
    },
    {
      "cell_type": "code",
      "source": [
        "np.random.seed(seed=0)\n",
        "n = 100\n",
        "\n",
        "## Step 1\n",
        "# Alice generates bits\n",
        "alice_bits = randint(2, size=n)\n",
        "\n",
        "## Step 2\n",
        "# Create an array to tell us which qubits\n",
        "# are encoded in which bases\n",
        "alice_bases = randint(2, size=n)\n",
        "message = encode_message(alice_bits, alice_bases)\n",
        "\n",
        "## Step 3\n",
        "# Decide which basis to measure in:\n",
        "bob_bases = randint(2, size=n)\n",
        "bob_results = measure_message(message, bob_bases)\n",
        "\n",
        "## Step 4\n",
        "alice_key = remove_garbage(alice_bases, bob_bases, alice_bits)\n",
        "print(alice_key)"
      ],
      "metadata": {
        "colab": {
          "base_uri": "https://localhost:8080/"
        },
        "id": "SW7PAaoSRwyp",
        "outputId": "b1aec2ca-3d33-4951-9dd8-0a338cf518d1"
      },
      "execution_count": null,
      "outputs": [
        {
          "output_type": "stream",
          "name": "stdout",
          "text": [
            "[0, 1, 1, 1, 1, 0, 1, 0, 0, 0, 0, 1, 0, 0, 0, 1, 1, 1, 0, 1, 0, 1, 1, 0, 1, 0, 0, 0, 0, 0, 0, 1, 0, 0, 1, 1, 0, 0, 0, 1, 1, 1, 1, 0, 0, 1, 0, 0]\n"
          ]
        }
      ]
    },
    {
      "cell_type": "code",
      "source": [
        "bob_key = remove_garbage(alice_bases, bob_bases, bob_results)\n",
        "print(bob_key)"
      ],
      "metadata": {
        "colab": {
          "base_uri": "https://localhost:8080/"
        },
        "id": "jy0Blfv1R-_K",
        "outputId": "387a1950-a0ce-42ba-8a91-580a079bac12"
      },
      "execution_count": null,
      "outputs": [
        {
          "output_type": "stream",
          "name": "stdout",
          "text": [
            "[0, 1, 1, 1, 1, 0, 1, 0, 0, 0, 0, 1, 0, 0, 0, 1, 1, 1, 0, 1, 0, 1, 1, 0, 1, 0, 0, 0, 0, 0, 0, 1, 0, 0, 1, 1, 0, 0, 0, 1, 1, 1, 1, 0, 0, 1, 0, 0]\n"
          ]
        }
      ]
    },
    {
      "cell_type": "code",
      "source": [
        "def sample_bits(bits, selection):\n",
        "    sample = []\n",
        "    for i in selection:\n",
        "        # use np.mod to make sure the\n",
        "        # bit we sample is always in\n",
        "        # the list range\n",
        "        i = np.mod(i, len(bits))\n",
        "        # pop(i) removes the element of the\n",
        "        # list at index 'i'\n",
        "        sample.append(bits.pop(i))\n",
        "    return sample"
      ],
      "metadata": {
        "id": "EimQwjIPSL0d"
      },
      "execution_count": null,
      "outputs": []
    },
    {
      "cell_type": "code",
      "source": [
        "sample_size = 15\n",
        "bit_selection = randint(n, size=sample_size)\n",
        "\n",
        "bob_sample = sample_bits(bob_key, bit_selection)\n",
        "print(\"  bob_sample = \" + str(bob_sample))\n",
        "alice_sample = sample_bits(alice_key, bit_selection)\n",
        "print(\"alice_sample = \"+ str(alice_sample))"
      ],
      "metadata": {
        "colab": {
          "base_uri": "https://localhost:8080/"
        },
        "id": "R_ISv97sSYqI",
        "outputId": "dfe943f0-4582-46dd-bd09-8f93d4cbb525"
      },
      "execution_count": null,
      "outputs": [
        {
          "output_type": "stream",
          "name": "stdout",
          "text": [
            "  bob_sample = [0, 1, 0, 1, 1, 0, 0, 0, 0, 0, 0, 1, 0, 0, 0]\n",
            "alice_sample = [0, 1, 0, 1, 1, 0, 0, 0, 0, 0, 0, 1, 0, 0, 0]\n"
          ]
        }
      ]
    },
    {
      "cell_type": "code",
      "source": [
        "bob_sample == alice_sample"
      ],
      "metadata": {
        "colab": {
          "base_uri": "https://localhost:8080/"
        },
        "id": "ueEpEjDxSc84",
        "outputId": "8416385f-0ff8-4c71-bc50-a605ade64af7"
      },
      "execution_count": null,
      "outputs": [
        {
          "output_type": "execute_result",
          "data": {
            "text/plain": [
              "True"
            ]
          },
          "metadata": {},
          "execution_count": 24
        }
      ]
    },
    {
      "cell_type": "code",
      "source": [
        "print(bob_key)\n",
        "print(alice_key)\n",
        "print(\"key length = %i\" % len(alice_key))"
      ],
      "metadata": {
        "colab": {
          "base_uri": "https://localhost:8080/"
        },
        "id": "wVskv_EtShWg",
        "outputId": "64a029d8-2472-4c72-f816-3058526b2549"
      },
      "execution_count": null,
      "outputs": [
        {
          "output_type": "stream",
          "name": "stdout",
          "text": [
            "[1, 1, 0, 1, 0, 0, 1, 0, 1, 1, 1, 0, 1, 1, 1, 0, 1, 0, 0, 1, 0, 0, 1, 1, 0, 0, 0, 1, 1, 0, 1, 0, 0]\n",
            "[1, 1, 0, 1, 0, 0, 1, 0, 1, 1, 1, 0, 1, 1, 1, 0, 1, 0, 0, 1, 0, 0, 1, 1, 0, 0, 0, 1, 1, 0, 1, 0, 0]\n",
            "key length = 33\n"
          ]
        }
      ]
    },
    {
      "cell_type": "code",
      "source": [
        "#interseption\n",
        "np.random.seed(seed=3)\n",
        "## Step 1\n",
        "alice_bits = randint(2, size=n)\n",
        "print(alice_bits)"
      ],
      "metadata": {
        "colab": {
          "base_uri": "https://localhost:8080/"
        },
        "id": "aAh-TESqTWhL",
        "outputId": "b1e81c56-ffd3-4e23-9b35-c7e7a7cdcd14"
      },
      "execution_count": null,
      "outputs": [
        {
          "output_type": "stream",
          "name": "stdout",
          "text": [
            "[0 0 1 1 0 0 0 1 1 1 0 1 1 1 0 1 1 0 0 0 0 1 1 0 0 0 1 0 0 0 0 1 0 1 1 0 1\n",
            " 0 0 1 1 0 0 1 0 1 0 1 1 1 1 0 1 0 0 1 1 1 0 0 0 1 0 0 0 1 0 0 1 1 0 0 1 1\n",
            " 1 0 1 1 1 1 1 1 0 1 0 0 1 1 0 1 0 0 0 0 0 1 1 0 1 1]\n"
          ]
        }
      ]
    },
    {
      "cell_type": "code",
      "source": [
        "## Step 2\n",
        "alice_bases = randint(2, size=n)\n",
        "message = encode_message(alice_bits, alice_bases)\n",
        "print(alice_bases)"
      ],
      "metadata": {
        "colab": {
          "base_uri": "https://localhost:8080/"
        },
        "id": "znwHac4zTkrW",
        "outputId": "e88c0c32-b4b8-4ec7-ad5b-73cbc0187267"
      },
      "execution_count": null,
      "outputs": [
        {
          "output_type": "stream",
          "name": "stdout",
          "text": [
            "[1 0 0 1 1 0 1 0 0 0 0 0 0 0 0 0 1 0 0 0 0 1 1 1 1 0 0 1 1 0 0 1 1 1 1 0 0\n",
            " 1 1 0 0 0 0 0 0 0 0 1 1 0 0 0 1 0 1 1 1 0 0 1 0 1 0 1 1 0 0 1 0 0 1 1 1 1\n",
            " 1 0 0 0 0 0 1 1 1 0 0 0 0 0 0 1 0 1 0 0 0 1 0 1 1 1]\n"
          ]
        }
      ]
    },
    {
      "cell_type": "code",
      "source": [
        "message[0].draw()"
      ],
      "metadata": {
        "colab": {
          "base_uri": "https://localhost:8080/",
          "height": 94
        },
        "id": "7ChShNZbToLt",
        "outputId": "1d46316e-c095-4bc0-c233-c5d265787016"
      },
      "execution_count": null,
      "outputs": [
        {
          "output_type": "execute_result",
          "data": {
            "text/plain": [
              "     ┌───┐ ░ \n",
              "  q: ┤ H ├─░─\n",
              "     └───┘ ░ \n",
              "c: 1/════════\n",
              "             "
            ],
            "text/html": [
              "<pre style=\"word-wrap: normal;white-space: pre;background: #fff0;line-height: 1.1;font-family: &quot;Courier New&quot;,Courier,monospace\">     ┌───┐ ░ \n",
              "  q: ┤ H ├─░─\n",
              "     └───┘ ░ \n",
              "c: 1/════════\n",
              "             </pre>"
            ]
          },
          "metadata": {},
          "execution_count": 28
        }
      ]
    },
    {
      "cell_type": "code",
      "source": [
        "## Interception!!\n",
        "eve_bases = randint(2, size=n)\n",
        "intercepted_message = measure_message(message, eve_bases)\n",
        "print(intercepted_message)"
      ],
      "metadata": {
        "colab": {
          "base_uri": "https://localhost:8080/"
        },
        "id": "D2aKh2WGTxVF",
        "outputId": "dce533be-e0ee-410e-c55b-231682e73fda"
      },
      "execution_count": null,
      "outputs": [
        {
          "output_type": "stream",
          "name": "stdout",
          "text": [
            "[1, 0, 0, 1, 0, 0, 1, 0, 1, 1, 0, 1, 1, 1, 0, 1, 1, 0, 0, 0, 1, 1, 0, 0, 0, 0, 1, 0, 1, 1, 0, 1, 1, 1, 1, 0, 0, 0, 0, 1, 0, 0, 1, 1, 1, 1, 1, 0, 1, 1, 1, 0, 1, 1, 0, 0, 0, 0, 0, 0, 0, 1, 0, 1, 0, 1, 0, 0, 1, 1, 1, 0, 1, 1, 0, 1, 1, 1, 1, 1, 1, 1, 0, 0, 0, 0, 1, 1, 0, 1, 0, 0, 0, 0, 1, 1, 1, 0, 1, 1]\n"
          ]
        }
      ]
    },
    {
      "cell_type": "code",
      "source": [
        "message[0].draw()"
      ],
      "metadata": {
        "colab": {
          "base_uri": "https://localhost:8080/",
          "height": 94
        },
        "id": "LIxqjFYhT2XF",
        "outputId": "80836e7c-bbaa-4b71-9a62-2553f4eed32d"
      },
      "execution_count": null,
      "outputs": [
        {
          "output_type": "execute_result",
          "data": {
            "text/plain": [
              "     ┌───┐ ░ ┌─┐\n",
              "  q: ┤ H ├─░─┤M├\n",
              "     └───┘ ░ └╥┘\n",
              "c: 1/═════════╩═\n",
              "              0 "
            ],
            "text/html": [
              "<pre style=\"word-wrap: normal;white-space: pre;background: #fff0;line-height: 1.1;font-family: &quot;Courier New&quot;,Courier,monospace\">     ┌───┐ ░ ┌─┐\n",
              "  q: ┤ H ├─░─┤M├\n",
              "     └───┘ ░ └╥┘\n",
              "c: 1/═════════╩═\n",
              "              0 </pre>"
            ]
          },
          "metadata": {},
          "execution_count": 30
        }
      ]
    },
    {
      "cell_type": "code",
      "source": [
        "## Step 3\n",
        "bob_bases = randint(2, size=n)\n",
        "bob_results = measure_message(message, bob_bases)\n",
        "message[0].draw()"
      ],
      "metadata": {
        "colab": {
          "base_uri": "https://localhost:8080/",
          "height": 94
        },
        "id": "bsvBXeGlT8BD",
        "outputId": "83f05d8f-2252-40e4-ac05-d90adbf79547"
      },
      "execution_count": null,
      "outputs": [
        {
          "output_type": "execute_result",
          "data": {
            "text/plain": [
              "     ┌───┐ ░ ┌─┐┌───┐┌─┐\n",
              "  q: ┤ H ├─░─┤M├┤ H ├┤M├\n",
              "     └───┘ ░ └╥┘└───┘└╥┘\n",
              "c: 1/═════════╩═══════╩═\n",
              "              0       0 "
            ],
            "text/html": [
              "<pre style=\"word-wrap: normal;white-space: pre;background: #fff0;line-height: 1.1;font-family: &quot;Courier New&quot;,Courier,monospace\">     ┌───┐ ░ ┌─┐┌───┐┌─┐\n",
              "  q: ┤ H ├─░─┤M├┤ H ├┤M├\n",
              "     └───┘ ░ └╥┘└───┘└╥┘\n",
              "c: 1/═════════╩═══════╩═\n",
              "              0       0 </pre>"
            ]
          },
          "metadata": {},
          "execution_count": 31
        }
      ]
    },
    {
      "cell_type": "code",
      "source": [
        "## Step 4\n",
        "bob_key = remove_garbage(alice_bases, bob_bases, bob_results)\n",
        "alice_key = remove_garbage(alice_bases, bob_bases, alice_bits)"
      ],
      "metadata": {
        "id": "OgUi0_L8UDlk"
      },
      "execution_count": null,
      "outputs": []
    },
    {
      "cell_type": "code",
      "source": [
        "## Step 5\n",
        "sample_size = 15\n",
        "bit_selection = randint(n, size=sample_size)\n",
        "bob_sample = sample_bits(bob_key, bit_selection)\n",
        "print(\"  bob_sample = \" + str(bob_sample))\n",
        "alice_sample = sample_bits(alice_key, bit_selection)\n",
        "print(\"alice_sample = \"+ str(alice_sample))"
      ],
      "metadata": {
        "colab": {
          "base_uri": "https://localhost:8080/"
        },
        "id": "WcAjDG6oUIE1",
        "outputId": "38486f58-28ed-432d-e3e3-dee2d85df5c4"
      },
      "execution_count": null,
      "outputs": [
        {
          "output_type": "stream",
          "name": "stdout",
          "text": [
            "  bob_sample = [1, 1, 0, 0, 1, 0, 0, 1, 0, 0, 0, 0, 0, 0, 1]\n",
            "alice_sample = [1, 1, 0, 0, 1, 0, 0, 0, 0, 0, 0, 1, 0, 0, 0]\n"
          ]
        }
      ]
    },
    {
      "cell_type": "code",
      "source": [
        "bob_sample == alice_sample"
      ],
      "metadata": {
        "colab": {
          "base_uri": "https://localhost:8080/"
        },
        "id": "L7Ijwd9uUMlJ",
        "outputId": "d83d5b71-361c-4356-ce84-ae47df781795"
      },
      "execution_count": null,
      "outputs": [
        {
          "output_type": "execute_result",
          "data": {
            "text/plain": [
              "False"
            ]
          },
          "metadata": {},
          "execution_count": 34
        }
      ]
    },
    {
      "cell_type": "code",
      "source": [
        "n = 100\n",
        "# Step 1\n",
        "alice_bits = randint(2, size=n)\n",
        "alice_bases = randint(2, size=n)\n",
        "# Step 2\n",
        "message = encode_message(alice_bits, alice_bases)\n",
        "# Interception!\n",
        "eve_bases = randint(2, size=n)\n",
        "intercepted_message = measure_message(message, eve_bases)\n",
        "# Step 3\n",
        "bob_bases = randint(2, size=n)\n",
        "bob_results = measure_message(message, bob_bases)\n",
        "# Step 4\n",
        "bob_key = remove_garbage(alice_bases, bob_bases, bob_results)\n",
        "alice_key = remove_garbage(alice_bases, bob_bases, alice_bits)\n",
        "# Step 5\n",
        "sample_size = 15 # Change this to something lower and see if\n",
        "                 # Eve can intercept the message without Alice\n",
        "                 # and Bob finding out\n",
        "bit_selection = randint(n, size=sample_size)\n",
        "bob_sample = sample_bits(bob_key, bit_selection)\n",
        "alice_sample = sample_bits(alice_key, bit_selection)\n",
        "\n",
        "if bob_sample != alice_sample:\n",
        "    print(\"Eve's interference was detected.\")\n",
        "else:\n",
        "    print(\"Eve went undetected!\")"
      ],
      "metadata": {
        "colab": {
          "base_uri": "https://localhost:8080/"
        },
        "id": "DA3-kV-KUcF3",
        "outputId": "d03a362b-84dc-40bc-adb6-c0b4c781c47d"
      },
      "execution_count": null,
      "outputs": [
        {
          "output_type": "stream",
          "name": "stdout",
          "text": [
            "Eve's interference was detected.\n"
          ]
        }
      ]
    }
  ]
}